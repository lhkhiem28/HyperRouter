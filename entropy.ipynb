{
 "cells": [
  {
   "cell_type": "code",
   "execution_count": 1,
   "metadata": {},
   "outputs": [],
   "source": [
    "import glob\n",
    "from natsort import natsorted\n",
    "import numpy as np\n",
    "import tqdm\n",
    "from scipy.stats import entropy\n",
    "import matplotlib.pyplot as plt"
   ]
  },
  {
   "cell_type": "code",
   "execution_count": 2,
   "metadata": {},
   "outputs": [
    {
     "data": {
      "text/plain": [
       "(4000,\n",
       " ['gate_scores/SMoEs-Dropout/20230621-133844.npy',\n",
       "  'gate_scores/SMoEs-Dropout/20230621-133845.npy',\n",
       "  'gate_scores/SMoEs-Dropout/20230621-133846.npy',\n",
       "  'gate_scores/SMoEs-Dropout/20230621-133847.npy',\n",
       "  'gate_scores/SMoEs-Dropout/20230621-133849.npy',\n",
       "  'gate_scores/SMoEs-Dropout/20230621-133850.npy',\n",
       "  'gate_scores/SMoEs-Dropout/20230621-133851.npy',\n",
       "  'gate_scores/SMoEs-Dropout/20230621-133852.npy'])"
      ]
     },
     "execution_count": 2,
     "metadata": {},
     "output_type": "execute_result"
    }
   ],
   "source": [
    "Dropout_list = natsorted(glob.glob(\"gate_scores/SMoEs-Dropout/*.npy\"))\n",
    "len(Dropout_list), Dropout_list[:8]"
   ]
  },
  {
   "cell_type": "code",
   "execution_count": 3,
   "metadata": {},
   "outputs": [
    {
     "name": "stdout",
     "output_type": "stream",
     "text": [
      "R1:  2.5827\n",
      "R2:  2.1607\n",
      "R3:  2.2612\n",
      "R4:  2.2648\n"
     ]
    }
   ],
   "source": [
    "for r in range(4):\n",
    "    ents = []\n",
    "    L = list(np.array(Dropout_list)[[j*4 + r for j in range(1000)]])\n",
    "    for g in L:\n",
    "        scores = np.load(g)\n",
    "        for t in range(scores.shape[0]):\n",
    "            ents.append(entropy(scores[t]))\n",
    "    print(\"R{}: \".format(r+1), round(np.mean(ents), 4))"
   ]
  },
  {
   "cell_type": "code",
   "execution_count": 4,
   "metadata": {},
   "outputs": [
    {
     "data": {
      "text/plain": [
       "(4000,\n",
       " ['gate_scores/SMoEs-HyperRouter/20230621-134147.npy',\n",
       "  'gate_scores/SMoEs-HyperRouter/20230621-134148.npy',\n",
       "  'gate_scores/SMoEs-HyperRouter/20230621-134149.npy',\n",
       "  'gate_scores/SMoEs-HyperRouter/20230621-134150.npy',\n",
       "  'gate_scores/SMoEs-HyperRouter/20230621-134151.npy',\n",
       "  'gate_scores/SMoEs-HyperRouter/20230621-134152.npy',\n",
       "  'gate_scores/SMoEs-HyperRouter/20230621-134153.npy',\n",
       "  'gate_scores/SMoEs-HyperRouter/20230621-134154.npy'])"
      ]
     },
     "execution_count": 4,
     "metadata": {},
     "output_type": "execute_result"
    }
   ],
   "source": [
    "HyperRouter_list = natsorted(glob.glob(\"gate_scores/SMoEs-HyperRouter/*.npy\"))\n",
    "len(HyperRouter_list), HyperRouter_list[:8]"
   ]
  },
  {
   "cell_type": "code",
   "execution_count": 5,
   "metadata": {},
   "outputs": [
    {
     "name": "stdout",
     "output_type": "stream",
     "text": [
      "R1:  1.4117\n",
      "R2:  0.8839\n",
      "R3:  1.1362\n",
      "R4:  1.3627\n"
     ]
    }
   ],
   "source": [
    "for r in range(4):\n",
    "    ents = []\n",
    "    L = list(np.array(HyperRouter_list)[[j*4 + r for j in range(1000)]])\n",
    "    for g in L:\n",
    "        scores = np.load(g)\n",
    "        for t in range(scores.shape[0]):\n",
    "            ents.append(entropy(scores[t]))\n",
    "    print(\"R{}: \".format(r+1), round(np.mean(ents), 4))"
   ]
  }
 ],
 "metadata": {
  "kernelspec": {
   "display_name": "svamp",
   "language": "python",
   "name": "python3"
  },
  "language_info": {
   "codemirror_mode": {
    "name": "ipython",
    "version": 3
   },
   "file_extension": ".py",
   "mimetype": "text/x-python",
   "name": "python",
   "nbconvert_exporter": "python",
   "pygments_lexer": "ipython3",
   "version": "3.8.16"
  },
  "orig_nbformat": 4
 },
 "nbformat": 4,
 "nbformat_minor": 2
}
