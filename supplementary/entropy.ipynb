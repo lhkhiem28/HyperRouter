{
 "cells": [
  {
   "cell_type": "code",
   "execution_count": 8,
   "metadata": {},
   "outputs": [],
   "source": [
    "import glob\n",
    "from natsort import natsorted\n",
    "import numpy as np\n",
    "import tqdm\n",
    "from scipy.stats import entropy\n",
    "import matplotlib.pyplot as plt"
   ]
  },
  {
   "cell_type": "code",
   "execution_count": 9,
   "metadata": {},
   "outputs": [
    {
     "data": {
      "text/plain": [
       "(20000,\n",
       " ['gate_scores/SMoEs/20230623-143019.npy',\n",
       "  'gate_scores/SMoEs/20230623-143020.npy',\n",
       "  'gate_scores/SMoEs/20230623-143021.npy',\n",
       "  'gate_scores/SMoEs/20230623-143022.npy',\n",
       "  'gate_scores/SMoEs/20230623-143023.npy',\n",
       "  'gate_scores/SMoEs/20230623-143024.npy',\n",
       "  'gate_scores/SMoEs/20230623-143025.npy',\n",
       "  'gate_scores/SMoEs/20230623-143026.npy'])"
      ]
     },
     "execution_count": 9,
     "metadata": {},
     "output_type": "execute_result"
    }
   ],
   "source": [
    "Dropout_list = natsorted(glob.glob(\"gate_scores/SMoEs/*.npy\"))\n",
    "len(Dropout_list), Dropout_list[:8]"
   ]
  },
  {
   "cell_type": "code",
   "execution_count": 10,
   "metadata": {},
   "outputs": [
    {
     "name": "stderr",
     "output_type": "stream",
     "text": [
      "100%|██████████| 5000/5000 [00:08<00:00, 619.42it/s]\n"
     ]
    },
    {
     "name": "stdout",
     "output_type": "stream",
     "text": [
      "R1:  2.52 0.17\n"
     ]
    },
    {
     "name": "stderr",
     "output_type": "stream",
     "text": [
      "100%|██████████| 5000/5000 [00:08<00:00, 619.13it/s]\n"
     ]
    },
    {
     "name": "stdout",
     "output_type": "stream",
     "text": [
      "R2:  2.21 0.31\n"
     ]
    },
    {
     "name": "stderr",
     "output_type": "stream",
     "text": [
      "100%|██████████| 5000/5000 [00:08<00:00, 618.18it/s]\n"
     ]
    },
    {
     "name": "stdout",
     "output_type": "stream",
     "text": [
      "R3:  2.24 0.3\n"
     ]
    },
    {
     "name": "stderr",
     "output_type": "stream",
     "text": [
      "100%|██████████| 5000/5000 [00:08<00:00, 618.04it/s]\n"
     ]
    },
    {
     "name": "stdout",
     "output_type": "stream",
     "text": [
      "R4:  2.26 0.25\n"
     ]
    }
   ],
   "source": [
    "for r in range(4):\n",
    "    ents = []\n",
    "    L = list(np.array(Dropout_list)[[j*4 + r for j in range(5000)]])\n",
    "    for g in tqdm.tqdm(L):\n",
    "        scores = np.load(g)\n",
    "        for t in range(scores.shape[0]):\n",
    "            ents.append(entropy(scores[t]))\n",
    "    print(\"R{}: \".format(r+1), round(np.mean(ents), 2), round(np.std(ents), 2))"
   ]
  },
  {
   "cell_type": "code",
   "execution_count": 11,
   "metadata": {},
   "outputs": [
    {
     "data": {
      "text/plain": [
       "(20000,\n",
       " ['gate_scores/SMoEs-Dropout/20230623-143053.npy',\n",
       "  'gate_scores/SMoEs-Dropout/20230623-143054.npy',\n",
       "  'gate_scores/SMoEs-Dropout/20230623-143055.npy',\n",
       "  'gate_scores/SMoEs-Dropout/20230623-143056.npy',\n",
       "  'gate_scores/SMoEs-Dropout/20230623-143057.npy',\n",
       "  'gate_scores/SMoEs-Dropout/20230623-143058.npy',\n",
       "  'gate_scores/SMoEs-Dropout/20230623-143059.npy',\n",
       "  'gate_scores/SMoEs-Dropout/20230623-143100.npy'])"
      ]
     },
     "execution_count": 11,
     "metadata": {},
     "output_type": "execute_result"
    }
   ],
   "source": [
    "Dropout_list = natsorted(glob.glob(\"gate_scores/SMoEs-Dropout/*.npy\"))\n",
    "len(Dropout_list), Dropout_list[:8]"
   ]
  },
  {
   "cell_type": "code",
   "execution_count": 12,
   "metadata": {},
   "outputs": [
    {
     "name": "stderr",
     "output_type": "stream",
     "text": [
      "100%|██████████| 5000/5000 [00:08<00:00, 618.20it/s]\n"
     ]
    },
    {
     "name": "stdout",
     "output_type": "stream",
     "text": [
      "R1:  2.58 0.11\n"
     ]
    },
    {
     "name": "stderr",
     "output_type": "stream",
     "text": [
      "100%|██████████| 5000/5000 [00:08<00:00, 619.56it/s]\n"
     ]
    },
    {
     "name": "stdout",
     "output_type": "stream",
     "text": [
      "R2:  2.16 0.37\n"
     ]
    },
    {
     "name": "stderr",
     "output_type": "stream",
     "text": [
      "100%|██████████| 5000/5000 [00:08<00:00, 619.92it/s]\n"
     ]
    },
    {
     "name": "stdout",
     "output_type": "stream",
     "text": [
      "R3:  2.26 0.28\n"
     ]
    },
    {
     "name": "stderr",
     "output_type": "stream",
     "text": [
      "100%|██████████| 5000/5000 [00:08<00:00, 618.25it/s]\n"
     ]
    },
    {
     "name": "stdout",
     "output_type": "stream",
     "text": [
      "R4:  2.27 0.27\n"
     ]
    }
   ],
   "source": [
    "for r in range(4):\n",
    "    ents = []\n",
    "    L = list(np.array(Dropout_list)[[j*4 + r for j in range(5000)]])\n",
    "    for g in tqdm.tqdm(L):\n",
    "        scores = np.load(g)\n",
    "        for t in range(scores.shape[0]):\n",
    "            ents.append(entropy(scores[t]))\n",
    "    print(\"R{}: \".format(r+1), round(np.mean(ents), 2), round(np.std(ents), 2))"
   ]
  },
  {
   "cell_type": "code",
   "execution_count": 13,
   "metadata": {},
   "outputs": [
    {
     "data": {
      "text/plain": [
       "(20000,\n",
       " ['gate_scores/SMoEs-HyperRouter/20230623-145837.npy',\n",
       "  'gate_scores/SMoEs-HyperRouter/20230623-145838.npy',\n",
       "  'gate_scores/SMoEs-HyperRouter/20230623-145839.npy',\n",
       "  'gate_scores/SMoEs-HyperRouter/20230623-145840.npy',\n",
       "  'gate_scores/SMoEs-HyperRouter/20230623-145841.npy',\n",
       "  'gate_scores/SMoEs-HyperRouter/20230623-145842.npy',\n",
       "  'gate_scores/SMoEs-HyperRouter/20230623-145843.npy',\n",
       "  'gate_scores/SMoEs-HyperRouter/20230623-145844.npy'])"
      ]
     },
     "execution_count": 13,
     "metadata": {},
     "output_type": "execute_result"
    }
   ],
   "source": [
    "HyperRouter_list = natsorted(glob.glob(\"gate_scores/SMoEs-HyperRouter/*.npy\"))\n",
    "len(HyperRouter_list), HyperRouter_list[:8]"
   ]
  },
  {
   "cell_type": "code",
   "execution_count": 14,
   "metadata": {},
   "outputs": [
    {
     "name": "stderr",
     "output_type": "stream",
     "text": [
      "100%|██████████| 5000/5000 [00:08<00:00, 618.20it/s]\n"
     ]
    },
    {
     "name": "stdout",
     "output_type": "stream",
     "text": [
      "R1:  1.44 0.42\n"
     ]
    },
    {
     "name": "stderr",
     "output_type": "stream",
     "text": [
      "100%|██████████| 5000/5000 [00:08<00:00, 617.76it/s]\n"
     ]
    },
    {
     "name": "stdout",
     "output_type": "stream",
     "text": [
      "R2:  0.89 0.46\n"
     ]
    },
    {
     "name": "stderr",
     "output_type": "stream",
     "text": [
      "100%|██████████| 5000/5000 [00:08<00:00, 618.85it/s]\n"
     ]
    },
    {
     "name": "stdout",
     "output_type": "stream",
     "text": [
      "R3:  1.13 0.46\n"
     ]
    },
    {
     "name": "stderr",
     "output_type": "stream",
     "text": [
      "100%|██████████| 5000/5000 [00:08<00:00, 616.52it/s]"
     ]
    },
    {
     "name": "stdout",
     "output_type": "stream",
     "text": [
      "R4:  1.35 0.5\n"
     ]
    },
    {
     "name": "stderr",
     "output_type": "stream",
     "text": [
      "\n"
     ]
    }
   ],
   "source": [
    "for r in range(4):\n",
    "    ents = []\n",
    "    L = list(np.array(HyperRouter_list)[[j*4 + r for j in range(5000)]])\n",
    "    for g in tqdm.tqdm(L):\n",
    "        scores = np.load(g)\n",
    "        for t in range(scores.shape[0]):\n",
    "            ents.append(entropy(scores[t]))\n",
    "    print(\"R{}: \".format(r+1), round(np.mean(ents), 2), round(np.std(ents), 2))"
   ]
  }
 ],
 "metadata": {
  "kernelspec": {
   "display_name": "svamp",
   "language": "python",
   "name": "python3"
  },
  "language_info": {
   "codemirror_mode": {
    "name": "ipython",
    "version": 3
   },
   "file_extension": ".py",
   "mimetype": "text/x-python",
   "name": "python",
   "nbconvert_exporter": "python",
   "pygments_lexer": "ipython3",
   "version": "3.8.16"
  },
  "orig_nbformat": 4
 },
 "nbformat": 4,
 "nbformat_minor": 2
}
