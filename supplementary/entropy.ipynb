{
 "cells": [
  {
   "cell_type": "code",
   "execution_count": 12,
   "metadata": {},
   "outputs": [],
   "source": [
    "import glob\n",
    "from natsort import natsorted\n",
    "import numpy as np\n",
    "import tqdm\n",
    "from scipy.stats import entropy\n",
    "import matplotlib.pyplot as plt"
   ]
  },
  {
   "cell_type": "code",
   "execution_count": 13,
   "metadata": {},
   "outputs": [],
   "source": [
    "n_layers = 1\n",
    "n_samples = 1000"
   ]
  },
  {
   "cell_type": "code",
   "execution_count": 14,
   "metadata": {},
   "outputs": [
    {
     "name": "stderr",
     "output_type": "stream",
     "text": [
      "100%|██████████| 1000/1000 [00:01<00:00, 508.04it/s]"
     ]
    },
    {
     "name": "stdout",
     "output_type": "stream",
     "text": [
      "R1: 0.9227 0.53\n"
     ]
    },
    {
     "name": "stderr",
     "output_type": "stream",
     "text": [
      "\n"
     ]
    }
   ],
   "source": [
    "gate_scores = natsorted(glob.glob(\"../ckps/pretraining/SMoE-S-enwik8/SMoE-S/gate_scores/*.npy\"))\n",
    "len(gate_scores)\n",
    "\n",
    "for r in range(n_layers):\n",
    "    ents = []\n",
    "    L = list(np.array(gate_scores)[[j*n_layers + r for j in range(n_samples)]])\n",
    "    for g in tqdm.tqdm(L):\n",
    "        scores = np.load(g)\n",
    "        for t in range(scores.shape[0]):\n",
    "            ents.append(entropy(scores[t]))\n",
    "    print(\"R{}: {:.4f} {:.2f}\".format(r+1, np.mean(ents), np.std(ents)))"
   ]
  },
  {
   "cell_type": "code",
   "execution_count": 15,
   "metadata": {},
   "outputs": [
    {
     "name": "stderr",
     "output_type": "stream",
     "text": [
      "100%|██████████| 1000/1000 [00:01<00:00, 512.34it/s]"
     ]
    },
    {
     "name": "stdout",
     "output_type": "stream",
     "text": [
      "R1: 1.4162 0.57\n"
     ]
    },
    {
     "name": "stderr",
     "output_type": "stream",
     "text": [
      "\n"
     ]
    }
   ],
   "source": [
    "gate_scores = natsorted(glob.glob(\"../ckps/pretraining/SMoE-S-enwik8/SMoE-Dropout-S/gate_scores/*.npy\"))\n",
    "len(gate_scores)\n",
    "\n",
    "for r in range(n_layers):\n",
    "    ents = []\n",
    "    L = list(np.array(gate_scores)[[j*n_layers + r for j in range(n_samples)]])\n",
    "    for g in tqdm.tqdm(L):\n",
    "        scores = np.load(g)\n",
    "        for t in range(scores.shape[0]):\n",
    "            ents.append(entropy(scores[t]))\n",
    "    print(\"R{}: {:.4f} {:.2f}\".format(r+1, np.mean(ents), np.std(ents)))"
   ]
  },
  {
   "cell_type": "code",
   "execution_count": 16,
   "metadata": {},
   "outputs": [
    {
     "name": "stderr",
     "output_type": "stream",
     "text": [
      "100%|██████████| 1000/1000 [00:01<00:00, 513.00it/s]"
     ]
    },
    {
     "name": "stdout",
     "output_type": "stream",
     "text": [
      "R1: 1.1035 0.51\n"
     ]
    },
    {
     "name": "stderr",
     "output_type": "stream",
     "text": [
      "\n"
     ]
    }
   ],
   "source": [
    "gate_scores = natsorted(glob.glob(\"../ckps/pretraining/SMoE-S-enwik8/XMoE-S/gate_scores/*.npy\"))\n",
    "len(gate_scores)\n",
    "\n",
    "for r in range(n_layers):\n",
    "    ents = []\n",
    "    L = list(np.array(gate_scores)[[j*n_layers + r for j in range(n_samples)]])\n",
    "    for g in tqdm.tqdm(L):\n",
    "        scores = np.load(g)\n",
    "        for t in range(scores.shape[0]):\n",
    "            ents.append(entropy(scores[t]))\n",
    "    print(\"R{}: {:.4f} {:.2f}\".format(r+1, np.mean(ents), np.std(ents)))"
   ]
  },
  {
   "cell_type": "code",
   "execution_count": 17,
   "metadata": {},
   "outputs": [
    {
     "name": "stderr",
     "output_type": "stream",
     "text": [
      "100%|██████████| 1000/1000 [00:01<00:00, 506.70it/s]"
     ]
    },
    {
     "name": "stdout",
     "output_type": "stream",
     "text": [
      "R1: 0.7149 0.47\n"
     ]
    },
    {
     "name": "stderr",
     "output_type": "stream",
     "text": [
      "\n"
     ]
    }
   ],
   "source": [
    "gate_scores = natsorted(glob.glob(\"../ckps/pretraining/SMoE-S-enwik8/StableMoE-S/gate_scores/*.npy\"))\n",
    "len(gate_scores)\n",
    "\n",
    "for r in range(n_layers):\n",
    "    ents = []\n",
    "    L = list(np.array(gate_scores)[[j*n_layers + r for j in range(n_samples)]])\n",
    "    for g in tqdm.tqdm(L):\n",
    "        scores = np.load(g)\n",
    "        for t in range(scores.shape[0]):\n",
    "            ents.append(entropy(scores[t]))\n",
    "    print(\"R{}: {:.4f} {:.2f}\".format(r+1, np.mean(ents), np.std(ents)))"
   ]
  }
 ],
 "metadata": {
  "kernelspec": {
   "display_name": "svamp",
   "language": "python",
   "name": "python3"
  },
  "language_info": {
   "codemirror_mode": {
    "name": "ipython",
    "version": 3
   },
   "file_extension": ".py",
   "mimetype": "text/x-python",
   "name": "python",
   "nbconvert_exporter": "python",
   "pygments_lexer": "ipython3",
   "version": "3.8.17"
  },
  "orig_nbformat": 4
 },
 "nbformat": 4,
 "nbformat_minor": 2
}
